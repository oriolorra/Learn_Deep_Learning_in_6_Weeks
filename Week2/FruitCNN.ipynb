{
 "cells": [
  {
   "cell_type": "markdown",
   "metadata": {},
   "source": [
    "## Fruit Neural Network (with KERAS & Tensorflow backend)\n",
    "Dataset https://www.kaggle.com/moltean/fruits/data"
   ]
  },
  {
   "cell_type": "code",
   "execution_count": 1,
   "metadata": {},
   "outputs": [
    {
     "name": "stderr",
     "output_type": "stream",
     "text": [
      "c:\\users\\oorra\\appdata\\local\\continuum\\anaconda3\\envs\\maskrcnn\\lib\\site-packages\\h5py\\__init__.py:36: FutureWarning: Conversion of the second argument of issubdtype from `float` to `np.floating` is deprecated. In future, it will be treated as `np.float64 == np.dtype(float).type`.\n",
      "  from ._conv import register_converters as _register_converters\n",
      "Using TensorFlow backend.\n"
     ]
    }
   ],
   "source": [
    "import os\n",
    "import numpy as np\n",
    "#from keras.models import Sequential\n",
    "#from keras.layers import Activation, Dropout, Flatten, Dense\n",
    "#from keras.preprocessing.image import ImageDataGenerator\n",
    "#from keras.layers import Convolution2D, MaxPooling2D, ZeroPadding2D,Conv2D\n",
    "#from keras import optimizers\n",
    "\n",
    "import tensorflow as tf\n",
    "import keras\n",
    "import keras.backend as K\n",
    "import keras.layers as KL\n",
    "import keras.engine as KE\n",
    "import keras.models as KM\n",
    "from keras.preprocessing.image import ImageDataGenerator"
   ]
  },
  {
   "cell_type": "code",
   "execution_count": 74,
   "metadata": {},
   "outputs": [],
   "source": [
    "batch_size = 1500\n",
    "num_classes = 65\n",
    "epochs = 10\n",
    "\n",
    "# input image dimensions\n",
    "img_rows, img_cols = 100, 100\n",
    "\n",
    "train_data_dir = 'fruits-360/Training'\n",
    "validation_data_dir = 'fruits-360/Validation'"
   ]
  },
  {
   "cell_type": "code",
   "execution_count": 75,
   "metadata": {},
   "outputs": [
    {
     "name": "stdout",
     "output_type": "stream",
     "text": [
      "Found 32426 images belonging to 65 classes.\n",
      "Found 10903 images belonging to 65 classes.\n"
     ]
    }
   ],
   "source": [
    "\n",
    "# used to rescale the pixel values from [0, 255] to [0, 1] interval# used  \n",
    "datagen = ImageDataGenerator(rescale=1./255)\n",
    "\n",
    "# automagically retrieve images and their classes for train and validation sets\n",
    "train_generator = datagen.flow_from_directory(\n",
    "        train_data_dir,\n",
    "        target_size=(img_cols, img_rows),\n",
    "        batch_size=512,\n",
    "        class_mode='categorical')\n",
    "\n",
    "validation_generator = datagen.flow_from_directory(\n",
    "        validation_data_dir,\n",
    "        target_size=(img_cols, img_rows),\n",
    "        batch_size=128,\n",
    "        class_mode='categorical')\n",
    "\n"
   ]
  },
  {
   "cell_type": "code",
   "execution_count": 76,
   "metadata": {},
   "outputs": [],
   "source": [
    "#model = Sequential()\n",
    "#model.add(Convolution2D(32, 3, 3, input_shape=(img_width, img_height,3)))\n",
    "#model.add(Activation('relu'))\n",
    "#model.add(MaxPooling2D(pool_size=(2, 2)))\n",
    "\n",
    "#model.add(Convolution2D(32, 3, 3))\n",
    "#model.add(Activation('relu'))\n",
    "#model.add(MaxPooling2D(pool_size=(2, 2)))\n",
    "\n",
    "#model.add(Convolution2D(64, 3, 3))\n",
    "#model.add(Activation('relu'))\n",
    "#model.add(MaxPooling2D(pool_size=(2, 2)))\n",
    "\n",
    "#model.add(Flatten())\n",
    "#model.add(Dense(64))\n",
    "#model.add(Activation('relu'))\n",
    "#model.add(Dropout(0.5))\n",
    "#model.add(Dense(1))\n",
    "#model.add(Activation('sigmoid'))\n",
    "\n",
    "model = KM.Sequential()\n",
    "model.add(KL.Conv2D(32, kernel_size=(3, 3), activation='relu', input_shape=(img_cols, img_rows,3)))\n",
    "model.add(KL.Conv2D(64, (3, 3), activation='relu'))\n",
    "model.add(KL.Conv2D(128, (3, 3), activation='relu'))\n",
    "model.add(KL.MaxPooling2D(pool_size=(2, 2)))\n",
    "model.add(KL.Dropout(0.25))\n",
    "model.add(KL.Flatten())\n",
    "model.add(KL.Dense(128, activation='relu'))\n",
    "model.add(KL.Dropout(0.5))\n",
    "model.add(KL.Dense(num_classes, activation='softmax'))\n",
    "\n",
    "model.compile(loss=keras.losses.categorical_crossentropy,\n",
    "              optimizer=keras.optimizers.Adadelta(),\n",
    "              metrics=['accuracy'])"
   ]
  },
  {
   "cell_type": "code",
   "execution_count": 77,
   "metadata": {},
   "outputs": [],
   "source": [
    "model.compile(loss=keras.losses.categorical_crossentropy,\n",
    "              optimizer=keras.optimizers.Adadelta(),\n",
    "              metrics=['accuracy'])"
   ]
  },
  {
   "cell_type": "code",
   "execution_count": null,
   "metadata": {},
   "outputs": [
    {
     "name": "stdout",
     "output_type": "stream",
     "text": [
      "Epoch 1/10\n",
      "2/2 [==============================] - 639s 319s/step - loss: 0.1084 - acc: 0.9527 - val_loss: 0.2048 - val_acc: 0.9550\n",
      "Epoch 2/10\n",
      "2/2 [==============================] - 660s 330s/step - loss: 0.1121 - acc: 0.9553 - val_loss: 0.2039 - val_acc: 0.9511\n",
      "Epoch 3/10\n",
      "2/2 [==============================] - 660s 330s/step - loss: 0.0912 - acc: 0.9613 - val_loss: 0.2017 - val_acc: 0.9536\n",
      "Epoch 4/10\n",
      "2/2 [==============================] - 649s 325s/step - loss: 0.0970 - acc: 0.9607 - val_loss: 0.2080 - val_acc: 0.9545\n",
      "Epoch 5/10\n",
      "1/2 [==============>...............] - ETA: 38s - loss: 0.0894 - acc: 0.9587"
     ]
    }
   ],
   "source": [
    "model.fit_generator(\n",
    "        train_generator,\n",
    "        steps_per_epoch=2,\n",
    "        epochs=epochs,\n",
    "        validation_data=validation_generator,\n",
    "        validation_steps=100,\n",
    "        #use_multiprocessing=True,\n",
    "        workers=2)"
   ]
  },
  {
   "cell_type": "code",
   "execution_count": 9,
   "metadata": {},
   "outputs": [
    {
     "name": "stdout",
     "output_type": "stream",
     "text": [
      "Score eval: [0.18850819604188968, 0.954144365689559]\n",
      "Score pred: [0.18850819604188968, 0.954144365689559]\n"
     ]
    }
   ],
   "source": [
    "#Score eval: [0.18850819604188968, 0.954144365689559]\n",
    "score = model.evaluate_generator(validation_generator, steps=batch_size, workers = 1)\n",
    "print(\"Score eval: \" + str(score))\n",
    "\n",
    "scores = model.predict_generator(validation_generator, steps=batch_size, workers = 1)\n",
    "print(\"Score pred: \" + str(score))"
   ]
  },
  {
   "cell_type": "code",
   "execution_count": 53,
   "metadata": {},
   "outputs": [
    {
     "name": "stdout",
     "output_type": "stream",
     "text": [
      "Found 10903 images belonging to 65 classes.\n",
      "[41 27 44 23 10 36  6 62 19 53 49 46 16 54 48 61 20  4 13 34 20 42 59  3\n",
      " 40]\n",
      "[41 27 44 23 10 36  6 62 19 53 49 46 16 54 48 61 20  4 13 34 19 42 59  3\n",
      " 40]\n"
     ]
    }
   ],
   "source": [
    "test_generator = datagen.flow_from_directory(\n",
    "        validation_data_dir,\n",
    "        target_size=(img_cols, img_rows),\n",
    "        batch_size=25,\n",
    "        class_mode='categorical')\n",
    "\n",
    "X = test_generator[0][0]\n",
    "predictions = model.predict(X)\n",
    "\n",
    "print(np.argmax(test_generator[0][1], axis = 1))\n",
    "print(np.argmax(predictions, axis = 1))"
   ]
  },
  {
   "cell_type": "code",
   "execution_count": 45,
   "metadata": {},
   "outputs": [],
   "source": [
    "# serialize model to JSON\n",
    "model_json = model.to_json()\n",
    "with open(\"model.json\", \"w\") as json_file:\n",
    "    json_file.write(model_json)\n",
    "    \n",
    "# Save the model weights.\n",
    "weight_path = 'model.h5'\n",
    "model.save_weights(weight_path)\n",
    "\n",
    "# Clean up the TF session.\n",
    "#K.clear_session()"
   ]
  },
  {
   "cell_type": "code",
   "execution_count": null,
   "metadata": {},
   "outputs": [],
   "source": [
    "\n",
    "# load json and create model\n",
    "json_file = open('model.json', 'r')\n",
    "loaded_model_json = json_file.read()\n",
    "json_file.close()\n",
    "loaded_model = model_from_json(loaded_model_json)\n",
    "# load weights into new model\n",
    "loaded_model.load_weights(\"model.h5\")\n",
    "print(\"Loaded model from disk\")\n",
    " \n",
    "# evaluate loaded model on test data\n",
    "loaded_model.compile(loss=keras.losses.categorical_crossentropy, optimizer=keras.optimizers.Adadelta(), metrics=['accuracy'])\n",
    "score = loaded_model.evaluate(validation_generator, verbose=0)\n",
    "print(\"%s: %.2f%%\" % (loaded_model.metrics_names[1], score[1]*100))"
   ]
  }
 ],
 "metadata": {
  "kernelspec": {
   "display_name": "Python 3",
   "language": "python",
   "name": "python3"
  },
  "language_info": {
   "codemirror_mode": {
    "name": "ipython",
    "version": 3
   },
   "file_extension": ".py",
   "mimetype": "text/x-python",
   "name": "python",
   "nbconvert_exporter": "python",
   "pygments_lexer": "ipython3",
   "version": "3.6.5"
  }
 },
 "nbformat": 4,
 "nbformat_minor": 2
}
